{
 "cells": [
  {
   "cell_type": "markdown",
   "id": "1862d131-266f-4f5b-8f5b-490d3a67e730",
   "metadata": {},
   "source": [
    "# Inferential Statistics "
   ]
  },
  {
   "cell_type": "markdown",
   "id": "5a644999-bb07-40ea-ac6b-47027060ece5",
   "metadata": {},
   "source": [
    "**Inferential Statistics** refers to the branch of statistics that uses sample data to make generalizations or inferences about a larger population. \n",
    "\n",
    "Unlike descriptive statistics, which summarize data from a sample, inferential statistics aim to draw conclusions that go beyond the immediate data."
   ]
  },
  {
   "cell_type": "markdown",
   "id": "5a781f47-1c33-49bc-987a-f876e451e67f",
   "metadata": {},
   "source": [
    "# Hypothesis Testing"
   ]
  },
  {
   "cell_type": "code",
   "execution_count": 2,
   "id": "78adfb33-fe1f-4640-9888-ff497cc72242",
   "metadata": {},
   "outputs": [
    {
     "data": {
      "text/html": [
       "<div>\n",
       "<style scoped>\n",
       "    .dataframe tbody tr th:only-of-type {\n",
       "        vertical-align: middle;\n",
       "    }\n",
       "\n",
       "    .dataframe tbody tr th {\n",
       "        vertical-align: top;\n",
       "    }\n",
       "\n",
       "    .dataframe thead th {\n",
       "        text-align: right;\n",
       "    }\n",
       "</style>\n",
       "<table border=\"1\" class=\"dataframe\">\n",
       "  <thead>\n",
       "    <tr style=\"text-align: right;\">\n",
       "      <th></th>\n",
       "      <th>drug_symptom_reduction</th>\n",
       "      <th>placebo_symptom_reduction</th>\n",
       "    </tr>\n",
       "  </thead>\n",
       "  <tbody>\n",
       "    <tr>\n",
       "      <th>0</th>\n",
       "      <td>5.828739</td>\n",
       "      <td>7.504067</td>\n",
       "    </tr>\n",
       "    <tr>\n",
       "      <th>1</th>\n",
       "      <td>9.994691</td>\n",
       "      <td>6.139281</td>\n",
       "    </tr>\n",
       "    <tr>\n",
       "      <th>2</th>\n",
       "      <td>8.565957</td>\n",
       "      <td>5.469109</td>\n",
       "    </tr>\n",
       "    <tr>\n",
       "      <th>3</th>\n",
       "      <td>4.987411</td>\n",
       "      <td>7.859169</td>\n",
       "    </tr>\n",
       "    <tr>\n",
       "      <th>4</th>\n",
       "      <td>6.842799</td>\n",
       "      <td>8.521643</td>\n",
       "    </tr>\n",
       "    <tr>\n",
       "      <th>...</th>\n",
       "      <td>...</td>\n",
       "      <td>...</td>\n",
       "    </tr>\n",
       "    <tr>\n",
       "      <th>495</th>\n",
       "      <td>9.135760</td>\n",
       "      <td>7.269526</td>\n",
       "    </tr>\n",
       "    <tr>\n",
       "      <th>496</th>\n",
       "      <td>9.025966</td>\n",
       "      <td>8.139837</td>\n",
       "    </tr>\n",
       "    <tr>\n",
       "      <th>497</th>\n",
       "      <td>7.946155</td>\n",
       "      <td>4.181346</td>\n",
       "    </tr>\n",
       "    <tr>\n",
       "      <th>498</th>\n",
       "      <td>8.623163</td>\n",
       "      <td>6.940527</td>\n",
       "    </tr>\n",
       "    <tr>\n",
       "      <th>499</th>\n",
       "      <td>7.715899</td>\n",
       "      <td>3.777139</td>\n",
       "    </tr>\n",
       "  </tbody>\n",
       "</table>\n",
       "<p>500 rows × 2 columns</p>\n",
       "</div>"
      ],
      "text/plain": [
       "     drug_symptom_reduction  placebo_symptom_reduction\n",
       "0                  5.828739                   7.504067\n",
       "1                  9.994691                   6.139281\n",
       "2                  8.565957                   5.469109\n",
       "3                  4.987411                   7.859169\n",
       "4                  6.842799                   8.521643\n",
       "..                      ...                        ...\n",
       "495                9.135760                   7.269526\n",
       "496                9.025966                   8.139837\n",
       "497                7.946155                   4.181346\n",
       "498                8.623163                   6.940527\n",
       "499                7.715899                   3.777139\n",
       "\n",
       "[500 rows x 2 columns]"
      ]
     },
     "execution_count": 2,
     "metadata": {},
     "output_type": "execute_result"
    }
   ],
   "source": [
    "import numpy as np\n",
    "import pandas as pd\n",
    "\n",
    "np.random.seed(123)\n",
    "n = 500\n",
    "drug_group = np.random.normal(8, 2, n)\n",
    "placebo_group = np.random.normal(6, 2, n)\n",
    "df = pd.DataFrame({'drug_symptom_reduction': drug_group, 'placebo_symptom_reduction': placebo_group})\n",
    "df"
   ]
  },
  {
   "cell_type": "code",
   "execution_count": 3,
   "id": "91180c73-95b9-4b94-ab1c-220d3f1836a9",
   "metadata": {},
   "outputs": [
    {
     "name": "stdout",
     "output_type": "stream",
     "text": [
      "T Test:  15.812191976007728\n",
      "P Values:  1.996722963460507e-50\n"
     ]
    }
   ],
   "source": [
    "# A t-test is a statistical test used to compare the means of two groups. It helps determine if there is a significant difference between the means of two datasets. \n",
    "# The p-value is the probability that the observed results occurred by chance, assuming that the null hypothesis is true. It helps you determine the significance of your results. \n",
    "\n",
    "from scipy.stats import ttest_ind\n",
    "\n",
    "t_test, p_value = ttest_ind( df['drug_symptom_reduction'], df['placebo_symptom_reduction'] )\n",
    "\n",
    "print(\"T Test: \", t_test)\n",
    "print(\"P Values: \", p_value)"
   ]
  },
  {
   "cell_type": "markdown",
   "id": "d40243f1-2bea-4833-b6ff-9c1d2a922de8",
   "metadata": {},
   "source": [
    "Low p-value (≤ 0.05): This means your results are unlikely to have happened by chance.\n",
    "High p-value (> 0.05): This means your results could have happened by chance."
   ]
  },
  {
   "cell_type": "markdown",
   "id": "d29562bc-4ce9-43a5-9b87-7d08652ba74b",
   "metadata": {},
   "source": [
    "# T-Test"
   ]
  },
  {
   "cell_type": "markdown",
   "id": "4fae31ad-1c09-47fd-8997-3d1c4a71fdf2",
   "metadata": {},
   "source": [
    "**One Sample T-Test:** test will tell us whether means of sample and population is different.\n",
    "      \n",
    "  t = x - U / S\n",
    "                x"
   ]
  },
  {
   "cell_type": "code",
   "execution_count": 5,
   "id": "dc5778e4-7af8-4115-8c1d-26dc011bca93",
   "metadata": {},
   "outputs": [
    {
     "name": "stdout",
     "output_type": "stream",
     "text": [
      "30.5\n"
     ]
    }
   ],
   "source": [
    "ages = [23, 17, 35, 29, 41, 19, 22, 38, 27, 33, 21, 45, 16, 30, 25, 18, 44, 20, 32, 24, 31, 28, 26, 34, 39, 40, 37, 36, 43, 42]\n",
    "\n",
    "import numpy as np\n",
    "ages_mean = np.mean(ages)\n",
    "print(ages_mean)   \n",
    "# Mean of population(data)"
   ]
  },
  {
   "cell_type": "code",
   "execution_count": 14,
   "id": "7c234b40-908d-4620-8345-69915bfad38b",
   "metadata": {},
   "outputs": [
    {
     "data": {
      "text/plain": [
       "array([32, 27, 43, 27, 37, 17, 38, 34, 39, 22])"
      ]
     },
     "execution_count": 14,
     "metadata": {},
     "output_type": "execute_result"
    }
   ],
   "source": [
    "# Take sample from data\n",
    "\n",
    "sample_size = 10\n",
    "age_sample = np.random.choice(ages, sample_size)\n",
    "age_sample"
   ]
  },
  {
   "cell_type": "code",
   "execution_count": 10,
   "id": "143d741e-c95c-4e66-9d31-ac8c645e07a9",
   "metadata": {},
   "outputs": [
    {
     "name": "stdout",
     "output_type": "stream",
     "text": [
      "TTest :  0.9147434153237062\n",
      "P_Value :  0.9147434153237062\n"
     ]
    }
   ],
   "source": [
    "from scipy.stats import ttest_1samp\n",
    "\n",
    "ttest, p_value = ttest_1samp(age_sample , 30)\n",
    "print(\"TTest : \", ttest)\n",
    "print(\"P_Value : \", ttest)"
   ]
  },
  {
   "cell_type": "raw",
   "id": "7ba8078d-1008-4499-a3c6-cd2f116231d2",
   "metadata": {},
   "source": [
    "If the P values is less than 0.05, then it is Alternate Hypothesis (means there is a statistical differnce betwwen them, mean of sample and population).....\n",
    "and \n",
    "If the P values is greater than 0.05, then it is Null Hypothesis (means there is no statistical difference)"
   ]
  },
  {
   "cell_type": "code",
   "execution_count": 12,
   "id": "4fac97d6-bf8f-4dd2-b06d-e7ea2104075c",
   "metadata": {},
   "outputs": [
    {
     "name": "stdout",
     "output_type": "stream",
     "text": [
      " We are accpeting Null Hypothesis \n"
     ]
    }
   ],
   "source": [
    "if p_value < 0.05:\n",
    "    print(\" We are rejecting Null Hypothesis \")\n",
    "else:\n",
    "    print(\" We are accpeting Null Hypothesis \")"
   ]
  },
  {
   "cell_type": "code",
   "execution_count": 18,
   "id": "f4b143a0-8d16-45ec-be3d-762a7c935aa6",
   "metadata": {},
   "outputs": [],
   "source": [
    "# Example: Consider the age of student in college and in Class A\n",
    "\n",
    "import numpy as np\n",
    "import pandas as pd\n",
    "import scipy.stats as stats\n",
    "import math\n",
    "\n",
    "np.random.seed(6)\n",
    "\n",
    "school_ages = stats.poisson.rvs(loc=18, mu=35, size=1500)\n",
    "classA_ages = stats.poisson.rvs(loc=10, mu=30, size=60)"
   ]
  },
  {
   "cell_type": "code",
   "execution_count": 19,
   "id": "f284fbf9-20db-4241-a770-d47faf2edb56",
   "metadata": {},
   "outputs": [
    {
     "data": {
      "text/plain": [
       "38.9"
      ]
     },
     "execution_count": 19,
     "metadata": {},
     "output_type": "execute_result"
    }
   ],
   "source": [
    "classA_ages.mean()"
   ]
  },
  {
   "cell_type": "code",
   "execution_count": 21,
   "id": "68cd98b8-b79c-42f9-898e-ba7097c492aa",
   "metadata": {},
   "outputs": [
    {
     "name": "stdout",
     "output_type": "stream",
     "text": [
      " We are rejecting Null Hypothesis \n"
     ]
    }
   ],
   "source": [
    "_, pvalue = ttest_1samp(a=classA_ages, popmean= school_ages.mean()) # sample and mean of population\n",
    "\n",
    "if pvalue < 0.05:\n",
    "    print(\" We are rejecting Null Hypothesis \") # means there is difference\n",
    "else:\n",
    "    print(\" We are accpeting Null Hypothesis \") # means there is no difference"
   ]
  },
  {
   "cell_type": "markdown",
   "id": "352e7539-b05d-405b-967a-2cfc81e3d656",
   "metadata": {},
   "source": [
    "**Two sample T-Test:** compares the means of two independent groups inorder to define whether there is statistical difference or not.\n",
    "\n",
    "Also called Independent Sample T-Test"
   ]
  },
  {
   "cell_type": "code",
   "execution_count": 22,
   "id": "d0f538e2-660a-4e7b-8cbd-2ca74b3c08fb",
   "metadata": {},
   "outputs": [
    {
     "data": {
      "text/plain": [
       "50.63333333333333"
      ]
     },
     "execution_count": 22,
     "metadata": {},
     "output_type": "execute_result"
    }
   ],
   "source": [
    "np.random.seed(12)\n",
    "classB_ages = stats.poisson.rvs(loc=18, mu=33, size=60)\n",
    "#               starts from (initial) ,mean , size of data\n",
    "\n",
    "classB_ages.mean()"
   ]
  },
  {
   "cell_type": "code",
   "execution_count": 24,
   "id": "1196d486-92c1-4e3d-ae10-2b972280d224",
   "metadata": {},
   "outputs": [
    {
     "name": "stdout",
     "output_type": "stream",
     "text": [
      "9.090823806881507e-21\n",
      " We are accpeting Null Hypothesis \n"
     ]
    }
   ],
   "source": [
    "_, pval = stats.ttest_ind(a = classA_ages, b= classB_ages, equal_var= False)\n",
    "print(pval)\n",
    "\n",
    "if p_value < 0.05:\n",
    "    print(\" We are rejecting Null Hypothesis \")\n",
    "else:\n",
    "    print(\" We are accpeting Null Hypothesis \")"
   ]
  },
  {
   "cell_type": "markdown",
   "id": "f0eb5a61-5aed-45ae-adf0-4046e96e4539",
   "metadata": {},
   "source": [
    "**Paired T-Test:** when you want to check how different samples from the same group are, we use paired ttest."
   ]
  },
  {
   "cell_type": "code",
   "execution_count": 26,
   "id": "64961be8-f736-4962-afbb-b36e3de3b9bb",
   "metadata": {},
   "outputs": [
    {
     "name": "stdout",
     "output_type": "stream",
     "text": [
      "[25, 30, 28, 35, 28, 34, 26, 29, 30, 26, 28, 32, 31, 30, 45]\n",
      "[18.6845637  27.43234756 30.49601605 28.30095696 24.35237039 35.86380814\n",
      " 35.69646047 31.13874933 31.4100301  36.91607782 23.93952644 29.58685451\n",
      " 36.46370697 36.63369994 48.53845269]\n"
     ]
    }
   ],
   "source": [
    "weight1 = [25, 30, 28, 35, 28, 34, 26, 29, 30, 26, 28, 32, 31, 30, 45 ]\n",
    "weight2 = weight1 + stats.norm.rvs(scale=5, loc=1.25, size=15)\n",
    "\n",
    "print(weight1)\n",
    "print(weight2)"
   ]
  },
  {
   "cell_type": "code",
   "execution_count": 31,
   "id": "d19f777c-64f4-4b30-b387-e42e573deca5",
   "metadata": {},
   "outputs": [
    {
     "data": {
      "text/html": [
       "<div>\n",
       "<style scoped>\n",
       "    .dataframe tbody tr th:only-of-type {\n",
       "        vertical-align: middle;\n",
       "    }\n",
       "\n",
       "    .dataframe tbody tr th {\n",
       "        vertical-align: top;\n",
       "    }\n",
       "\n",
       "    .dataframe thead th {\n",
       "        text-align: right;\n",
       "    }\n",
       "</style>\n",
       "<table border=\"1\" class=\"dataframe\">\n",
       "  <thead>\n",
       "    <tr style=\"text-align: right;\">\n",
       "      <th></th>\n",
       "      <th>weight_10</th>\n",
       "      <th>weight_20</th>\n",
       "      <th>weight_change</th>\n",
       "    </tr>\n",
       "  </thead>\n",
       "  <tbody>\n",
       "    <tr>\n",
       "      <th>0</th>\n",
       "      <td>25</td>\n",
       "      <td>18.684564</td>\n",
       "      <td>-6.315436</td>\n",
       "    </tr>\n",
       "    <tr>\n",
       "      <th>1</th>\n",
       "      <td>30</td>\n",
       "      <td>27.432348</td>\n",
       "      <td>-2.567652</td>\n",
       "    </tr>\n",
       "    <tr>\n",
       "      <th>2</th>\n",
       "      <td>28</td>\n",
       "      <td>30.496016</td>\n",
       "      <td>2.496016</td>\n",
       "    </tr>\n",
       "    <tr>\n",
       "      <th>3</th>\n",
       "      <td>35</td>\n",
       "      <td>28.300957</td>\n",
       "      <td>-6.699043</td>\n",
       "    </tr>\n",
       "    <tr>\n",
       "      <th>4</th>\n",
       "      <td>28</td>\n",
       "      <td>24.352370</td>\n",
       "      <td>-3.647630</td>\n",
       "    </tr>\n",
       "  </tbody>\n",
       "</table>\n",
       "</div>"
      ],
      "text/plain": [
       "   weight_10  weight_20  weight_change\n",
       "0         25  18.684564      -6.315436\n",
       "1         30  27.432348      -2.567652\n",
       "2         28  30.496016       2.496016\n",
       "3         35  28.300957      -6.699043\n",
       "4         28  24.352370      -3.647630"
      ]
     },
     "execution_count": 31,
     "metadata": {},
     "output_type": "execute_result"
    }
   ],
   "source": [
    "weight_df = pd.DataFrame({\"weight_10\": np.array(weight1),\n",
    "                        \"weight_20\": np.array(weight2),\n",
    "                        \"weight_change\": np.array(weight2) - np.array(weight1)\n",
    "                         })\n",
    "\n",
    "weight_df.head()"
   ]
  },
  {
   "cell_type": "code",
   "execution_count": 33,
   "id": "5bbe4bfe-ca0e-41da-b28f-4bc21f1ca039",
   "metadata": {},
   "outputs": [
    {
     "name": "stdout",
     "output_type": "stream",
     "text": [
      "0.39907052675466614\n",
      " We are accpeting Null Hypothesis \n"
     ]
    }
   ],
   "source": [
    "_, pvaluee = stats.ttest_rel(a= weight1, b=weight2 )\n",
    "\n",
    "print(pvaluee)\n",
    "\n",
    "if p_value < 0.05:\n",
    "    print(\" We are rejecting Null Hypothesis \")\n",
    "else:\n",
    "    print(\" We are accpeting Null Hypothesis \")"
   ]
  },
  {
   "cell_type": "raw",
   "id": "395ce4cc-7093-4344-a275-9f6b6d749eb2",
   "metadata": {},
   "source": [
    "Corelation: value must be between -1 to +1\n",
    "\n",
    "df.corr()"
   ]
  },
  {
   "cell_type": "markdown",
   "id": "dada66fb-06ee-4078-a52b-6b08d73fd848",
   "metadata": {},
   "source": [
    "# Confidence intervals "
   ]
  },
  {
   "cell_type": "markdown",
   "id": "dc7ce6ee-6ef6-4cb1-86c1-ce3fd51026e6",
   "metadata": {},
   "source": [
    "**Confidence Intervals** (CIs) are a range of values, derived from sample data, that are used to estimate an unknown population parameter (such as a population mean or proportion). They provide a range within which we can say, with a certain level of confidence, that the population parameter lies.\n",
    "\n",
    "CI = sample mean +- zscore (std / sqrt of sample size)"
   ]
  },
  {
   "cell_type": "code",
   "execution_count": 34,
   "id": "cbfec319-2d1c-479f-b0e8-2b093524c599",
   "metadata": {},
   "outputs": [],
   "source": [
    "import pandas as pd\n",
    "import numpy as np\n",
    "import scipy.stats as stats"
   ]
  },
  {
   "cell_type": "code",
   "execution_count": 35,
   "id": "8ebac756-359a-49b4-b5f1-c6b3979c145e",
   "metadata": {},
   "outputs": [
    {
     "name": "stdout",
     "output_type": "stream",
     "text": [
      "Confidence Interval:  (0.6037545676904135, 2.305336341400496)\n"
     ]
    }
   ],
   "source": [
    "data = [0, 0, 1, 0, 1, 0, 2, 2, 3, 3, 4]\n",
    "\n",
    "sample_mean = np.mean(data)\n",
    "sample_std = np.std(data, ddof=1)\n",
    "\n",
    "n = len(data)\n",
    "\n",
    "confidence_level = 0.95\n",
    "\n",
    "alpha = 1 - confidence_level\n",
    "z_critical = stats.norm.ppf(1- alpha / 2)\n",
    "\n",
    "margin_of_error = z_critical * (sample_std / np.sqrt(n) )\n",
    "\n",
    "confidence_interval = (sample_mean - margin_of_error, sample_mean + margin_of_error)\n",
    "\n",
    "print(\"Confidence Interval: \", confidence_interval)"
   ]
  },
  {
   "cell_type": "markdown",
   "id": "d007728c-6ae1-43a2-ab2e-180905335647",
   "metadata": {},
   "source": [
    "# Chi-Square Test"
   ]
  },
  {
   "cell_type": "markdown",
   "id": "daca61ff-d789-483d-9b4e-93ffc45396b6",
   "metadata": {},
   "source": [
    "**The Chi-Square Test** is a statistical test used to determine whether there is a significant association between categorical variables or if a distribution of categorical data matches an expected distribution. It is primarily used for testing relationships between categorical variables.\n",
    "\n",
    "To Check: Whether two categorical variables are corelated or not. they have some assosiation"
   ]
  },
  {
   "cell_type": "code",
   "execution_count": 39,
   "id": "f78326c3-a89c-4461-bd2e-4ed92b85d75b",
   "metadata": {},
   "outputs": [
    {
     "name": "stdout",
     "output_type": "stream",
     "text": [
      "Chi Value:  54.10532318070527\n",
      "P Value:  7.025027345478898e-10\n",
      "DOF:  6\n",
      "Expected Frequencies:  [[ 19.40650407  73.59349593  31.        ]\n",
      " [ 15.80691057  59.94308943  25.25      ]\n",
      " [ 29.26626016 110.98373984  46.75      ]\n",
      " [ 12.5203252   47.4796748   20.        ]]\n",
      "\n",
      " We are rejecting Null Hypothesis \n"
     ]
    }
   ],
   "source": [
    "import scipy.stats as stats\n",
    "categories = [[24, 83, 17], [11, 62, 28], [32, 121, 34], [10, 26, 44]]\n",
    "# from table write data in the form of row\n",
    "\n",
    "chi2, p_value, dof, expected_freq = stats.chi2_contingency(categories)\n",
    "\n",
    "print(\"Chi Value: \", chi2)\n",
    "print(\"P Value: \", p_value)\n",
    "print(\"DOF: \", dof)\n",
    "print(\"Expected Frequencies: \", expected_freq)\n",
    "\n",
    "print()\n",
    "if p_value < 0.05:\n",
    "    print(\" We are rejecting Null Hypothesis \")\n",
    "else:\n",
    "    print(\" We are accpeting Null Hypothesis \")"
   ]
  },
  {
   "cell_type": "raw",
   "id": "ff49e280-3033-469c-800a-9231d4976d09",
   "metadata": {},
   "source": [
    "When to Use Chi-Test:\n",
    "When you have two categorical variables, and you want to test if they are associated (i.e., if knowing one variable helps predict the other).\n",
    "\n",
    "Example: Testing if there is a relationship between gender (male/female) and preference for a product (like/dislike)."
   ]
  },
  {
   "cell_type": "raw",
   "id": "bc21388a-bd8c-4460-ace2-debdb8a067b0",
   "metadata": {},
   "source": [
    "Example Applications:\n",
    "Market research: Testing whether different age groups prefer different brands.\n",
    "\n",
    "Epidemiology: Determining if there is an association between smoking and developing a specific disease."
   ]
  },
  {
   "cell_type": "markdown",
   "id": "98386598-3087-4f70-933a-d942ee8dc12e",
   "metadata": {},
   "source": [
    "# ANOVA Test: Analysis of Variance"
   ]
  },
  {
   "cell_type": "markdown",
   "id": "e8b41ab4-5204-4a89-a86b-f108369d838e",
   "metadata": {},
   "source": [
    "**ANOVA** (Analysis of Variance) is a statistical method used to compare the means of three or more groups to determine if there is a statistically significant difference between them. It tests whether the differences between group means are greater than would be expected by chance."
   ]
  },
  {
   "cell_type": "markdown",
   "id": "12fbd0ed-44a9-46ed-a1a0-6df514b8137a",
   "metadata": {},
   "source": [
    "Formula = Mean Sum of Squares Between Groups / Mean Sum of Squares Within Groups"
   ]
  },
  {
   "cell_type": "raw",
   "id": "acb3dc41-e084-480b-9733-fd9907ec831b",
   "metadata": {},
   "source": [
    "IMP:   This is a test for Numerical Variable VS Categorical Variable\n",
    "\n",
    "       This is a parametric test"
   ]
  },
  {
   "cell_type": "markdown",
   "id": "1cf3e939-2f4d-4663-995a-b3dd0b27d0e7",
   "metadata": {},
   "source": [
    "# One Way ANOVA"
   ]
  },
  {
   "cell_type": "markdown",
   "id": "db34c014-771b-4379-84cb-4f0fefb12315",
   "metadata": {},
   "source": [
    "Used when comparing the means of three or more independent groups based on one factor or independent variable.\n",
    "\n",
    "Example: Testing whether the average test scores are different across three different teaching methods."
   ]
  },
  {
   "cell_type": "code",
   "execution_count": 44,
   "id": "995790b2-4311-42ad-abaa-d15183c8e6ce",
   "metadata": {},
   "outputs": [
    {
     "name": "stdout",
     "output_type": "stream",
     "text": [
      "Stas:  0.25490196078431376\n",
      "P Value  0.7777431274263891\n",
      "\n",
      " We are accpeting Null Hypothesis \n"
     ]
    }
   ],
   "source": [
    "Conntry_A = [5, 4, 3, 5, 6, 7, 3]\n",
    "Conntry_B = [6, 7, 8, 5, 4, 3, 4]\n",
    "Conntry_C = [4, 5, 6, 7, 3, 4, 5]\n",
    "\n",
    "import scipy.stats as stats\n",
    "\n",
    "statss, p_val = stats.f_oneway(Conntry_A, Conntry_B, Conntry_C)\n",
    "\n",
    "print(\"Stas: \", statss)\n",
    "print(\"P Value \", p_val)\n",
    "\n",
    "print()\n",
    "if p_val < 0.05:\n",
    "    print(\" We are rejecting Null Hypothesis \") # means they have different means (difference)\n",
    "else:\n",
    "    print(\" We are accpeting Null Hypothesis \") # means they all have same mean (No difference)"
   ]
  },
  {
   "cell_type": "code",
   "execution_count": 45,
   "id": "9ccd934a-6068-4b2a-b5a6-a980a6aa5187",
   "metadata": {},
   "outputs": [
    {
     "data": {
      "text/plain": [
       "F_onewayResult(statistic=1.7744689357329695, pvalue=0.13173183201930463)"
      ]
     },
     "execution_count": 45,
     "metadata": {},
     "output_type": "execute_result"
    }
   ],
   "source": [
    "# Another Example\n",
    "\n",
    "import numpy as np\n",
    "import pandas as pd\n",
    "import matplotlib.pyplot as plt\n",
    "import scipy.stats as stats\n",
    "\n",
    "np.random.seed(12)\n",
    "\n",
    "races = ['asian', 'black', 'hispanic', 'other', 'white']\n",
    "\n",
    "voter_race = np.random.choice(a= races, p= [0.05, 0.15, 0.25, 0.05, 0.5], size=1000)\n",
    "\n",
    "voter_age = stats.poisson.rvs(loc=18, mu=30, size=1000)\n",
    "\n",
    "# Group age data by race\n",
    "voter_frame = pd.DataFrame({\"race\": voter_race, \"age\": voter_age})\n",
    "groups = voter_frame.groupby(\"race\").groups\n",
    "\n",
    "# Extract indivisual groups\n",
    "asian = voter_age[groups[\"asian\"]]\n",
    "black = voter_age[groups[\"black\"]]\n",
    "hispanic = voter_age[groups[\"hispanic\"]]\n",
    "other = voter_age[groups[\"other\"]]\n",
    "white = voter_age[groups[\"white\"]]\n",
    "\n",
    "# Perform the ANOVA\n",
    "stats.f_oneway(asian, black, hispanic, other, white)"
   ]
  },
  {
   "cell_type": "code",
   "execution_count": 50,
   "id": "17f7528c-05a5-4a29-aaf8-04d8ec5bbeb9",
   "metadata": {},
   "outputs": [
    {
     "data": {
      "text/html": [
       "<table class=\"simpletable\">\n",
       "<caption>Multiple Comparison of Means - Tukey HSD, FWER=0.50</caption>\n",
       "<tr>\n",
       "   <th>group1</th>   <th>group2</th>  <th>meandiff</th>  <th>p-adj</th>  <th>lower</th>   <th>upper</th>  <th>reject</th>\n",
       "</tr>\n",
       "<tr>\n",
       "    <td>asian</td>    <td>black</td>   <td>-1.3353</td> <td>0.5848</td> <td>-2.7893</td> <td>0.1186</td>   <td>False</td>\n",
       "</tr>\n",
       "<tr>\n",
       "    <td>asian</td>  <td>hispanic</td>  <td>-0.7593</td> <td>0.9062</td> <td>-2.1451</td> <td>0.6264</td>   <td>False</td>\n",
       "</tr>\n",
       "<tr>\n",
       "    <td>asian</td>    <td>other</td>   <td>-0.0264</td>   <td>1.0</td>  <td>-1.7753</td> <td>1.7225</td>   <td>False</td>\n",
       "</tr>\n",
       "<tr>\n",
       "    <td>asian</td>    <td>white</td>   <td>-1.4184</td> <td>0.4319</td> <td>-2.7473</td> <td>-0.0895</td>  <td>True</td> \n",
       "</tr>\n",
       "<tr>\n",
       "    <td>black</td>  <td>hispanic</td>   <td>0.576</td>  <td>0.8362</td> <td>-0.3073</td> <td>1.4594</td>   <td>False</td>\n",
       "</tr>\n",
       "<tr>\n",
       "    <td>black</td>    <td>other</td>    <td>1.309</td>  <td>0.5571</td> <td>-0.0762</td> <td>2.6941</td>   <td>False</td>\n",
       "</tr>\n",
       "<tr>\n",
       "    <td>black</td>    <td>white</td>   <td>-0.0831</td> <td>0.9998</td> <td>-0.8742</td> <td>0.7081</td>   <td>False</td>\n",
       "</tr>\n",
       "<tr>\n",
       "  <td>hispanic</td>   <td>other</td>    <td>0.733</td>  <td>0.9003</td> <td>-0.5805</td> <td>2.0464</td>   <td>False</td>\n",
       "</tr>\n",
       "<tr>\n",
       "  <td>hispanic</td>   <td>white</td>   <td>-0.6591</td> <td>0.4976</td> <td>-1.3166</td> <td>-0.0015</td>  <td>True</td> \n",
       "</tr>\n",
       "<tr>\n",
       "    <td>other</td>    <td>white</td>   <td>-1.392</td>  <td>0.3899</td> <td>-2.6453</td> <td>-0.1388</td>  <td>True</td> \n",
       "</tr>\n",
       "</table>"
      ],
      "text/latex": [
       "\\begin{center}\n",
       "\\begin{tabular}{ccccccc}\n",
       "\\toprule\n",
       "\\textbf{group1} & \\textbf{group2} & \\textbf{meandiff} & \\textbf{p-adj} & \\textbf{lower} & \\textbf{upper} & \\textbf{reject}  \\\\\n",
       "\\midrule\n",
       "     asian      &      black      &      -1.3353      &     0.5848     &    -2.7893     &     0.1186     &      False       \\\\\n",
       "     asian      &     hispanic    &      -0.7593      &     0.9062     &    -2.1451     &     0.6264     &      False       \\\\\n",
       "     asian      &      other      &      -0.0264      &      1.0       &    -1.7753     &     1.7225     &      False       \\\\\n",
       "     asian      &      white      &      -1.4184      &     0.4319     &    -2.7473     &    -0.0895     &       True       \\\\\n",
       "     black      &     hispanic    &       0.576       &     0.8362     &    -0.3073     &     1.4594     &      False       \\\\\n",
       "     black      &      other      &       1.309       &     0.5571     &    -0.0762     &     2.6941     &      False       \\\\\n",
       "     black      &      white      &      -0.0831      &     0.9998     &    -0.8742     &     0.7081     &      False       \\\\\n",
       "    hispanic    &      other      &       0.733       &     0.9003     &    -0.5805     &     2.0464     &      False       \\\\\n",
       "    hispanic    &      white      &      -0.6591      &     0.4976     &    -1.3166     &    -0.0015     &       True       \\\\\n",
       "     other      &      white      &       -1.392      &     0.3899     &    -2.6453     &    -0.1388     &       True       \\\\\n",
       "\\bottomrule\n",
       "\\end{tabular}\n",
       "%\\caption{Multiple Comparison of Means - Tukey HSD, FWER=0.50}\n",
       "\\end{center}"
      ],
      "text/plain": [
       "<class 'statsmodels.iolib.table.SimpleTable'>"
      ]
     },
     "execution_count": 50,
     "metadata": {},
     "output_type": "execute_result"
    },
    {
     "data": {
      "image/png": "[encoded data removed]",
      "text/plain": [
       "<Figure size 1000x600 with 1 Axes>"
      ]
     },
     "metadata": {},
     "output_type": "display_data"
    }
   ],
   "source": [
    "from statsmodels.stats.multicomp import pairwise_tukeyhsd\n",
    "\n",
    "tukey = pairwise_tukeyhsd(endog= voter_age, groups= voter_race, alpha= 0.5)\n",
    "\n",
    "tukey.plot_simultaneous()\n",
    "plt.vlines(x= 49.57, ymin= -0.5, ymax= 4.5, color= \"red\")\n",
    "\n",
    "tukey.summary()"
   ]
  },
  {
   "cell_type": "markdown",
   "id": "21b71f14-b7af-46ab-8151-0ba85454ced5",
   "metadata": {},
   "source": [
    "# Two way ANOVA"
   ]
  },
  {
   "cell_type": "markdown",
   "id": "ada90143-8cc0-42bc-8083-579393035d81",
   "metadata": {},
   "source": [
    "Used when comparing the means of groups based on two independent factors. It also tests for interaction effects between the two factors.\n",
    "\n",
    "Example: Testing whether both teaching methods and student gender affect test scores, and whether there's any interaction between the two factors."
   ]
  },
  {
   "cell_type": "raw",
   "id": "66038e1a-c943-4346-89cb-086f5797439f",
   "metadata": {},
   "source": [
    "When to Use:\n",
    "When comparing means: When you have three or more groups or levels of a categorical variable, and you want to determine if their means differ.\n",
    "\n",
    "Example: Testing whether students’ scores vary based on different teaching strategies (lecture, group work, self-study)."
   ]
  },
  {
   "cell_type": "raw",
   "id": "4993cfd3-1f94-42dd-9d4a-693c2f9fceb3",
   "metadata": {},
   "source": [
    "Example Applications:\n",
    "\n",
    "Marketing: Testing whether different advertisement strategies result in different sales numbers across regions.\n",
    "\n",
    "Healthcare: Comparing the effect of different diets or medications on patient outcomes"
   ]
  }
 ],
 "metadata": {
  "kernelspec": {
   "display_name": "Python 3 (ipykernel)",
   "language": "python",
   "name": "python3"
  },
  "language_info": {
   "codemirror_mode": {
    "name": "ipython",
    "version": 3
   },
   "file_extension": ".py",
   "mimetype": "text/x-python",
   "name": "python",
   "nbconvert_exporter": "python",
   "pygments_lexer": "ipython3",
   "version": "3.12.3"
  }
 },
 "nbformat": 4,
 "nbformat_minor": 5
}
